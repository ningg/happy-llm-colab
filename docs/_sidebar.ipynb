{
 "cells": [
  {
   "cell_type": "markdown",
   "id": "e0095b1d",
   "metadata": {},
   "source": [
    "- [Happy-LLM](./README.md)\n",
    "  - [前言](./前言.md)\n",
    "  - [第一章 NLP 基础概念](./chapter1/第一章%20NLP基础概念.md)\n",
    "  - [第二章 Transformer 架构](./chapter2/第二章%20Transformer架构.md)\n",
    "  - [第三章 预训练语言模型](./chapter3/第三章%20预训练语言模型.md)\n",
    "  - [第四章 大语言模型](./chapter4/第四章%20大语言模型.md) \n",
    "  - [第五章 动手搭建大模型](./chapter5/第五章%20动手搭建大模型.md)\n",
    "  - [第六章 大模型训练实践](./chapter6/第六章%20大模型训练流程实践.md)\n",
    "  - [第七章 大模型应用](./chapter7/第七章%20大模型应用.md)"
   ]
  }
 ],
 "metadata": {},
 "nbformat": 4,
 "nbformat_minor": 5
}
